{
 "cells": [
  {
   "cell_type": "markdown",
   "metadata": {},
   "source": [
    "| Ngày bắt đầu | Công việc |                   Nội dung            |\n",
    "|:----|:------------------|:------------------|\n",
    "|19/3/2024| Chạy model nhận diện thủ ngữ sử dụng model đã train | Trong quá trình chạy gặp lỗi RuntimeError: The expanded size of the tensor (1) must match the existing size (2) at non-singleton dimension 1.  Target sizes: [10400, 1].  Tensor sizes: [10400, 2] , đã sửa được lỗi |\n",
    "|26/3/2024| Chạy model nhận diện thủ ngữ đã được train | Model xử lý dữ liệu nạp vào webcam với tốc độ rất chậm giật 20s một frame khiến mô hình không thể nhận diện được|\n",
    "|2/4/2024| Chạy model xử lý hình ảnh từ video trước để tránh tình trạng tốc độ xử lý khung hình từ webcam chậm| Quy dữ liệu về file .test dùng module HRNet sau đó nạp keypoint đọc được từ video vào model, kết quả trả về chính xác, có thể nhận diện được nhiều từ trong cùng một video|\n",
    "|9/4/2024| Giảm thao tác trong khâu thiết lập dữ liệu đầu vào để nạp vào mô hình và chuyển sang lấy dữ liệu từ webcam thay vì video| Đang thực hiện ...|\n",
    "|16/4/2024| Sử dụng jetson nano để chạy code python | Sau khi đóng được project bằng docker thành docker image và lưu thành file .jar, "
   ]
  }
 ],
 "metadata": {
  "language_info": {
   "name": "python"
  }
 },
 "nbformat": 4,
 "nbformat_minor": 2
}
